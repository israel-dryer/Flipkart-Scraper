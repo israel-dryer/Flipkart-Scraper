{
 "cells": [
  {
   "cell_type": "markdown",
   "metadata": {},
   "source": [
    "# Short demo of Flipkart scraper"
   ]
  },
  {
   "cell_type": "code",
   "execution_count": 1,
   "metadata": {},
   "outputs": [],
   "source": [
    "from bs4 import BeautifulSoup\n",
    "import requests\n",
    "import re\n",
    "from time import sleep\n",
    "import csv"
   ]
  },
  {
   "cell_type": "markdown",
   "metadata": {},
   "source": [
    "Getting started with a simple query of a computer monitor"
   ]
  },
  {
   "cell_type": "code",
   "execution_count": 2,
   "metadata": {},
   "outputs": [],
   "source": [
    "url = \"https://www.flipkart.com/search?q=monitor\""
   ]
  },
  {
   "cell_type": "code",
   "execution_count": 3,
   "metadata": {},
   "outputs": [],
   "source": [
    "response = requests.get(url)"
   ]
  },
  {
   "cell_type": "code",
   "execution_count": 4,
   "metadata": {},
   "outputs": [],
   "source": [
    "soup = BeautifulSoup(response.text, 'html.parser')"
   ]
  },
  {
   "cell_type": "code",
   "execution_count": 5,
   "metadata": {},
   "outputs": [],
   "source": [
    "cards = soup.find_all('a', '_31qSD5')"
   ]
  },
  {
   "cell_type": "markdown",
   "metadata": {},
   "source": [
    "Prototype a single card"
   ]
  },
  {
   "cell_type": "code",
   "execution_count": 6,
   "metadata": {},
   "outputs": [],
   "source": [
    "card = cards[0]"
   ]
  },
  {
   "cell_type": "code",
   "execution_count": 7,
   "metadata": {},
   "outputs": [
    {
     "data": {
      "text/plain": [
       "'https://www.flipkart.com/lg-21-5-inch-full-hd-ips-panel-monitor-22mk600m/p/itm297ef0f41b753?pid=MONFK842GG8RUHQQ&lid=LSTMONFK842GG8RUHQQW4GCES&marketplace=FLIPKART&srno=s_1_1&otracker=search&fm=organic&iid=16ec2e20-0d5c-4a8b-8b60-aa2c0d7a6603.MONFK842GG8RUHQQ.SEARCH&ssid=j6yli0ayz40000001604940535198&qH=08b5411f848a2581'"
      ]
     },
     "execution_count": 7,
     "metadata": {},
     "output_type": "execute_result"
    }
   ],
   "source": [
    "url = 'https://www.flipkart.com' + card['href']\n",
    "url"
   ]
  },
  {
   "cell_type": "code",
   "execution_count": 8,
   "metadata": {},
   "outputs": [
    {
     "data": {
      "text/plain": [
       "'LG 21.5 inch Full HD IPS Panel Monitor (22MK600M)'"
      ]
     },
     "execution_count": 8,
     "metadata": {},
     "output_type": "execute_result"
    }
   ],
   "source": [
    "title = card.find('img').get('alt')\n",
    "title"
   ]
  },
  {
   "cell_type": "code",
   "execution_count": 9,
   "metadata": {},
   "outputs": [
    {
     "data": {
      "text/plain": [
       "'Panel Type: IPS Panel; Screen Resolution Type: Full HD; HDMI; Brightness: 250 nits; Response Time: 5 ms | Refresh Rate: 75 Hz; HDMI Ports - 2; 3 Years Manufacture Warranty'"
      ]
     },
     "execution_count": 9,
     "metadata": {},
     "output_type": "execute_result"
    }
   ],
   "source": [
    "description = \"; \".join([tag.text for tag in card.find_all('li')])\n",
    "description"
   ]
  },
  {
   "cell_type": "code",
   "execution_count": 10,
   "metadata": {},
   "outputs": [
    {
     "data": {
      "text/plain": [
       "'₹6,999'"
      ]
     },
     "execution_count": 10,
     "metadata": {},
     "output_type": "execute_result"
    }
   ],
   "source": [
    "price = card.find('div', text=re.compile(r'₹')).text\n",
    "price"
   ]
  },
  {
   "cell_type": "code",
   "execution_count": 11,
   "metadata": {},
   "outputs": [
    {
     "data": {
      "text/plain": [
       "'1,226 Ratings'"
      ]
     },
     "execution_count": 11,
     "metadata": {},
     "output_type": "execute_result"
    }
   ],
   "source": [
    "ratings = card.find('span', text=re.compile(r'Ratings')).text.strip()\n",
    "ratings"
   ]
  },
  {
   "cell_type": "code",
   "execution_count": 12,
   "metadata": {},
   "outputs": [
    {
     "data": {
      "text/plain": [
       "'251 Reviews'"
      ]
     },
     "execution_count": 12,
     "metadata": {},
     "output_type": "execute_result"
    }
   ],
   "source": [
    "reviews = card.find('span', text=re.compile(r'Reviews')).text.strip()\n",
    "reviews"
   ]
  },
  {
   "cell_type": "markdown",
   "metadata": {},
   "source": [
    "Generalize model for all cards"
   ]
  },
  {
   "cell_type": "code",
   "execution_count": 13,
   "metadata": {},
   "outputs": [],
   "source": [
    "def get_card_data(card):\n",
    "    \"\"\"Extract data from each card\"\"\"\n",
    "    title = card.find('img').get('alt')\n",
    "    description = \"; \".join([tag.text for tag in card.find_all('li')])\n",
    "    price = card.find('div', text=re.compile(r'₹')).text\n",
    "    try:\n",
    "        ratings = card.find('span', text=re.compile(r'Ratings')).text.strip()\n",
    "    except AttributeError:\n",
    "        ratings = \"\"\n",
    "    try:\n",
    "        reviews = card.find('span', text=re.compile(r'Reviews')).text.strip()\n",
    "    except AttributeError:\n",
    "        reviews = \"\"\n",
    "    url = 'https://www.flipkart.com' + card['href']\n",
    "    return (title, description, price, ratings, reviews, url)"
   ]
  },
  {
   "cell_type": "markdown",
   "metadata": {},
   "source": [
    "How to get the next page?"
   ]
  },
  {
   "cell_type": "code",
   "execution_count": 14,
   "metadata": {},
   "outputs": [
    {
     "data": {
      "text/plain": [
       "'https://www.flipkart.com/search?q=monitor&page=2'"
      ]
     },
     "execution_count": 14,
     "metadata": {},
     "output_type": "execute_result"
    }
   ],
   "source": [
    "next_page = 'https://www.flipkart.com' + soup.find('span', text=\"Next\").find_parent()['href']\n",
    "next_page"
   ]
  },
  {
   "cell_type": "markdown",
   "metadata": {},
   "source": [
    "Consolidate this all into a single function"
   ]
  },
  {
   "cell_type": "code",
   "execution_count": 15,
   "metadata": {},
   "outputs": [],
   "source": [
    "def extract_page_data(html_text):\n",
    "    \"\"\"Extract and return data from the current page\"\"\"\n",
    "    soup = BeautifulSoup(html_text)\n",
    "    cards = soup.find_all('a', '_31qSD5')\n",
    "    data = [get_card_data(card) for card in cards]\n",
    "    try:\n",
    "        next_page = 'https://www.flipkart.com' + soup.find('span', text=\"Next\").find_parent()['href']\n",
    "    except AttributeError:\n",
    "        next_page = None\n",
    "    return data, next_page"
   ]
  },
  {
   "cell_type": "markdown",
   "metadata": {},
   "source": [
    "## Putting it all together"
   ]
  },
  {
   "cell_type": "code",
   "execution_count": 16,
   "metadata": {},
   "outputs": [],
   "source": [
    "response = requests.get('https://www.flipkart.com/search?q=monitor')\n",
    "\n",
    "product_data = []\n",
    "\n",
    "while True:\n",
    "    data, next_page = extract_page_data(response.text)\n",
    "    product_data.extend(data)\n",
    "    if next_page:\n",
    "        sleep(0.5) # delay a half second to prevent spamming the site\n",
    "        response = requests.get(next_page, 'html.parser')\n",
    "        continue\n",
    "    else:\n",
    "        break"
   ]
  },
  {
   "cell_type": "code",
   "execution_count": 17,
   "metadata": {},
   "outputs": [
    {
     "data": {
      "text/plain": [
       "270"
      ]
     },
     "execution_count": 17,
     "metadata": {},
     "output_type": "execute_result"
    }
   ],
   "source": [
    "# how many products were scraped?\n",
    "len(product_data)"
   ]
  },
  {
   "cell_type": "code",
   "execution_count": 18,
   "metadata": {},
   "outputs": [
    {
     "data": {
      "text/plain": [
       "('LG 21.5 inch Full HD IPS Panel Monitor (22MK600M)',\n",
       " 'Panel Type: IPS Panel; Screen Resolution Type: Full HD; HDMI; Brightness: 250 nits; Response Time: 5 ms | Refresh Rate: 75 Hz; HDMI Ports - 2; 3 Years Manufacture Warranty',\n",
       " '₹6,999',\n",
       " '1,226 Ratings',\n",
       " '251 Reviews',\n",
       " 'https://www.flipkart.com/lg-21-5-inch-full-hd-ips-panel-monitor-22mk600m/p/itm297ef0f41b753?pid=MONFK842GG8RUHQQ&lid=LSTMONFK842GG8RUHQQW4GCES&marketplace=FLIPKART&srno=s_1_1&otracker=search&fm=organic&iid=ceb86ece-7f2e-43ca-a852-a3817138cb71.MONFK842GG8RUHQQ.SEARCH&ssid=2crv6qbpo00000001604940576824&qH=08b5411f848a2581')"
      ]
     },
     "execution_count": 18,
     "metadata": {},
     "output_type": "execute_result"
    }
   ],
   "source": [
    "product_data[0]"
   ]
  },
  {
   "cell_type": "markdown",
   "metadata": {},
   "source": [
    "Save the data"
   ]
  },
  {
   "cell_type": "code",
   "execution_count": 20,
   "metadata": {},
   "outputs": [],
   "source": [
    "with open('product_data.csv', 'w', newline='', encoding='utf-8') as f:\n",
    "    writer = csv.writer(f)\n",
    "    writer.writerow(['Title', 'Description', 'Price', 'Rating', 'Reviews', 'URL'])\n",
    "    writer.writerows(product_data)"
   ]
  }
 ],
 "metadata": {
  "kernelspec": {
   "display_name": "Python 3",
   "language": "python",
   "name": "python3"
  },
  "language_info": {
   "codemirror_mode": {
    "name": "ipython",
    "version": 3
   },
   "file_extension": ".py",
   "mimetype": "text/x-python",
   "name": "python",
   "nbconvert_exporter": "python",
   "pygments_lexer": "ipython3",
   "version": "3.8.3"
  }
 },
 "nbformat": 4,
 "nbformat_minor": 4
}
